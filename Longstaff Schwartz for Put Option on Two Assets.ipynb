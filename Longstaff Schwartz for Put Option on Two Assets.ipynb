{
 "cells": [
  {
   "cell_type": "code",
   "execution_count": 1,
   "metadata": {},
   "outputs": [],
   "source": [
    "# pricing an American put option - Longstaff-Schwarz\n",
    "# option based on average price of two stocks \n",
    "\n",
    "import numpy as np \n",
    "import numpy.random as npr\n",
    "import matplotlib.pyplot as plt\n",
    "from scipy.stats import norm"
   ]
  },
  {
   "cell_type": "code",
   "execution_count": 2,
   "metadata": {},
   "outputs": [],
   "source": [
    "# parameters of the stocks and the option \n",
    "S10 = 40.0\n",
    "S20 = 40.0 \n",
    "K = 40.0 \n",
    "r = 0.06\n",
    "sigma1 = 0.4\n",
    "sigma2 = 0.2\n",
    "rho = -0.5\n",
    "rho_c = np.sqrt(1-rho**2) \n",
    "T = 2.0"
   ]
  },
  {
   "cell_type": "code",
   "execution_count": 3,
   "metadata": {},
   "outputs": [],
   "source": [
    "# numeric parameters - number of intervals, number of samples, random numbers \n",
    "N = 250\n",
    "h = T/N \n",
    "M = 50000"
   ]
  },
  {
   "cell_type": "code",
   "execution_count": 4,
   "metadata": {},
   "outputs": [],
   "source": [
    "S1 = S10*np.ones([M,N+1])\n",
    "S2 = S20*np.ones([M,N+1])\n",
    "Z1 = npr.randn(M,N)\n",
    "Z2 = npr.randn(M,N)\n",
    "b = 3                    # number of basis functions\n",
    "disc = np.exp(-r*h)      # one period discount factor "
   ]
  },
  {
   "cell_type": "code",
   "execution_count": 5,
   "metadata": {},
   "outputs": [],
   "source": [
    "# generate price paths using the GBM formula\n",
    "for n in range(0,N):       \n",
    "    S1[:,n+1]=S1[:,n]*np.exp((r-sigma1**2/2)*h+(Z1[:,n])                              *sigma1*np.sqrt(h))\n",
    "    S2[:,n+1]=S2[:,n]*np.exp((r-sigma2**2/2)*h+(rho*Z1[:,n]+np.sqrt(1-rho**2)*Z2[:,n])*sigma2*np.sqrt(h)) "
   ]
  },
  {
   "cell_type": "code",
   "execution_count": 6,
   "metadata": {},
   "outputs": [],
   "source": [
    "# exercise value\n",
    "def exer(S1,S2):\n",
    "    return((K-(S1+S2)/2)*(K>(S1+S2)/2))\n",
    "\n",
    "# Basis functions\n",
    "def psi(i,S1,S2):\n",
    "    if i==0:\n",
    "        return(1)\n",
    "    elif i==1:\n",
    "        return(S1/K)\n",
    "    elif i==2:\n",
    "        return(S2/K)\n",
    "    elif i==3:\n",
    "        return(S1*S1/K*K)\n",
    "    elif i==4:\n",
    "        return(S1*S2/K*K)\n",
    "    elif i==5:\n",
    "        return(S2*S2/K*K)"
   ]
  },
  {
   "cell_type": "code",
   "execution_count": 7,
   "metadata": {},
   "outputs": [],
   "source": [
    "c = np.zeros([b,N+1])     # coefficients of continuation values\n",
    "d = np.zeros(b)\n",
    "MM = np.zeros([b,b])      # normalization matrix\n",
    "val = np.zeros([M,N+1])   # option values in simulation \n",
    "val[:,N] = exer(S1[:,N],S2[:,N])   # option values at final time "
   ]
  },
  {
   "cell_type": "code",
   "execution_count": 8,
   "metadata": {},
   "outputs": [
    {
     "name": "stdout",
     "output_type": "stream",
     "text": [
      "price of the option is: 2.291, with a stochastic error of 0.01229\n"
     ]
    }
   ],
   "source": [
    "for k in range(N-1,0,-1):\n",
    "    sel = ( (S1[:,k]+S2[:,k])/2 < K )\n",
    "    val[~sel,k] =  disc*val[~sel,k+1]\n",
    "    S1sel = S1[sel,k]\n",
    "    S2sel = S2[sel,k]\n",
    "    valsel = disc*val[sel,k+1]\n",
    "    for i in range(0,b):\n",
    "        c[i,k] = np.mean( valsel *  psi(i,S1sel,S2sel))       # was called d in file          \n",
    "        MM[i,i] = np.mean( psi(i,S1sel,S2sel) *  psi(i,S1sel,S2sel) )   \n",
    "        for j in range(i+1,b):\n",
    "            MM[i,j] = np.mean( psi(i,S1sel,S2sel) *  psi(j,S1sel,S2sel) ) \n",
    "            MM[j,i] = MM[i,j] \n",
    "    c[:,k] = np.linalg.solve(MM,c[:,k])\n",
    "    cont = np.zeros(S1sel.size)\n",
    "    for i in range(0,b):\n",
    "        cont = cont + c[i,k] * psi(i,S1sel,S2sel)\n",
    "    val[sel,k] = exer(S1sel,S2sel) * (exer(S1sel,S2sel) > cont) + disc*val[sel,k+1] * (exer(S1sel,S2sel) < cont)\n",
    "val[:,0] =  disc*val[:,1]\n",
    "V1=np.mean(val[:,0])\n",
    "e1=np.std(val[:,0])/np.sqrt(M)\n",
    "print(\"price of the option is: {:.3f}, with a stochastic error of {:.5f}\".format(V1,e1))"
   ]
  },
  {
   "cell_type": "code",
   "execution_count": 9,
   "metadata": {},
   "outputs": [
    {
     "name": "stdout",
     "output_type": "stream",
     "text": [
      "price of the option is: 2.286, with a stochastic error of 0.01228\n"
     ]
    }
   ],
   "source": [
    "# generate a further set of paths to get lower bound on option price \n",
    "M2 = 50000\n",
    "Sq1 = S10*np.ones([M2,N+1])\n",
    "Sq2 = S20*np.ones([M2,N+1])\n",
    "Zq1 = npr.randn(M2,N)\n",
    "Zq2 = npr.randn(M2,N)\n",
    "for n in range(0,N): \n",
    "    tem1 =(r-sigma1**2/2)*h + np.sqrt(h)*sigma1*Zq1[:,n]\n",
    "    tem2 =(r-sigma2**2/2)*h + np.sqrt(h)*sigma2*(rho*Zq1[:,n] + rho_c*Zq2[:,n])      \n",
    "    Sq1[:,n+1]=Sq1[:,n]*np.exp(tem1 )\n",
    "    Sq2[:,n+1]=Sq2[:,n]*np.exp(tem2)    \n",
    "val2 = np.zeros(M2)\n",
    "for n in range(1,N+1): \n",
    "    tem1 = exer( Sq1[:,n], Sq2[:,n] )\n",
    "    tem2 = np.zeros(M2)\n",
    "    for i in range(0,b):\n",
    "        tem2 = tem2 + c[i,n] * psi(i,Sq1[:,n],Sq2[:,n])\n",
    "    val2 = val2 + np.exp(-r*n*h)*(val2==0)*(tem1>tem2)*tem1\n",
    "V2=np.mean(val2)\n",
    "e2=np.std(val2)/np.sqrt(M2)\n",
    "print(\"price of the option is: {:.3f}, with a stochastic error of {:.5f}\".format(V2,e2))"
   ]
  }
 ],
 "metadata": {
  "kernelspec": {
   "display_name": "Python 3",
   "language": "python",
   "name": "python3"
  },
  "language_info": {
   "codemirror_mode": {
    "name": "ipython",
    "version": 3
   },
   "file_extension": ".py",
   "mimetype": "text/x-python",
   "name": "python",
   "nbconvert_exporter": "python",
   "pygments_lexer": "ipython3",
   "version": "3.7.4"
  }
 },
 "nbformat": 4,
 "nbformat_minor": 4
}
